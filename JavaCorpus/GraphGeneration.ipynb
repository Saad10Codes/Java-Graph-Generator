{
 "cells": [
  {
   "cell_type": "code",
   "execution_count": 1,
   "id": "fa0b6906-bf6e-4d8b-bef3-7f6b2710a497",
   "metadata": {},
   "outputs": [],
   "source": [
    "import networkx as nx"
   ]
  },
  {
   "cell_type": "code",
   "execution_count": 3,
   "id": "94801486-b39c-4867-af6f-270ba9182ff3",
   "metadata": {},
   "outputs": [],
   "source": [
    "s='(compilationUnit (ordinaryCompilationUnit (topLevelClassOrInterfaceDeclaration (classDeclaration (normalClassDeclaration (classModifier public) class (typeIdentifier HelloWorld) (classBody { (classBodyDeclaration (classMemberDeclaration (methodDeclaration (methodModifier public) (methodModifier static) (methodHeader (result void) (methodDeclarator main ( (formalParameterList (formalParameter (unannType (unannReferenceType (unannArrayType (unannClassOrInterfaceType (typeIdentifier String)) (dims [ ])))) (variableDeclaratorId args))) ))) (methodBody (block { (blockStatements (blockStatement (statement (statementWithoutTrailingSubstatement (expressionStatement (statementExpression (methodInvocation (typeName (packageName System . (packageName out))) . println ( (argumentList (expression (assignmentExpression (conditionalExpression (conditionalOrExpression (conditionalAndExpression (inclusiveOrExpression (exclusiveOrExpression (andExpression (equalityExpression (relationalExpression (shiftExpression (additiveExpression (multiplicativeExpression (unaryExpression (unaryExpressionNotPlusMinus (postfixExpression (primary (primaryNoNewArray (literal \"Hello, World\")))))))))))))))))))) ))) ;))))) }))))) }))))))'\n",
    "G=nx.MultiDiGraph()"
   ]
  },
  {
   "cell_type": "code",
   "execution_count": 4,
   "id": "6fa4475d-07d4-4684-bbaf-2a110dc6de35",
   "metadata": {},
   "outputs": [],
   "source": [
    "java_keywords = [\n",
    "    \"abstract\", \"assert\", \"boolean\", \"break\", \"byte\", \"case\", \"catch\", \"char\", \"class\", \"const\", \n",
    "    \"continue\", \"default\", \"do\", \"double\", \"else\", \"enum\", \"extends\", \"final\", \"finally\", \"float\", \n",
    "    \"for\", \"goto\", \"if\", \"implements\", \"import\", \"instanceof\", \"int\", \"interface\", \"long\", \"native\", \n",
    "    \"new\", \"null\", \"package\", \"private\", \"protected\", \"public\", \"return\", \"short\", \"static\", \n",
    "    \"strictfp\", \"super\", \"switch\", \"synchronized\", \"this\", \"throw\", \"throws\", \"transient\", \"try\", \n",
    "    \"void\", \"volatile\", \"while\"\n",
    "]\n"
   ]
  },
  {
   "cell_type": "code",
   "execution_count": 9,
   "id": "5110e337-f336-4668-a402-864e384fbfa7",
   "metadata": {},
   "outputs": [
    {
     "name": "stdout",
     "output_type": "stream",
     "text": [
      "['(compilationUnit', '(ordinaryCompilationUnit', '(topLevelClassOrInterfaceDeclaration', '(classDeclaration', '(normalClassDeclaration', '(classModifier', 'public)', 'class', '(typeIdentifier', 'HelloWorld)', '(classBody', '{', '(classBodyDeclaration', '(classMemberDeclaration', '(methodDeclaration', '(methodModifier', 'public)', '(methodModifier', 'static)', '(methodHeader', '(result', 'void)', '(methodDeclarator', 'main', '(', '(formalParameterList', '(formalParameter', '(unannType', '(unannReferenceType', '(unannArrayType', '(unannClassOrInterfaceType', '(typeIdentifier', 'String))', '(dims', '[', ']))))', '(variableDeclaratorId', 'args)))', ')))', '(methodBody', '(block', '{', '(blockStatements', '(blockStatement', '(statement', '(statementWithoutTrailingSubstatement', '(expressionStatement', '(statementExpression', '(methodInvocation', '(typeName', '(packageName', 'System', '.', '(packageName', 'out)))', '.', 'println', '(', '(argumentList', '(expression', '(assignmentExpression', '(conditionalExpression', '(conditionalOrExpression', '(conditionalAndExpression', '(inclusiveOrExpression', '(exclusiveOrExpression', '(andExpression', '(equalityExpression', '(relationalExpression', '(shiftExpression', '(additiveExpression', '(multiplicativeExpression', '(unaryExpression', '(unaryExpressionNotPlusMinus', '(postfixExpression', '(primary', '(primaryNoNewArray', '(literal', '\"Hello,', 'World\"))))))))))))))))))))', ')))', ';)))))', '})))))', '}))))))']\n"
     ]
    }
   ],
   "source": [
    "def graphGenerator(s,java_keywords,g):\n",
    "    parse_list=s.split()\n",
    "    print(parse_list)\n",
    "graphGenerator(s,java_keywords,G)"
   ]
  },
  {
   "cell_type": "code",
   "execution_count": null,
   "id": "ecd53750-7a1c-49e0-bbdb-ba75c5807c54",
   "metadata": {},
   "outputs": [],
   "source": []
  }
 ],
 "metadata": {
  "kernelspec": {
   "display_name": "Python 3 (ipykernel)",
   "language": "python",
   "name": "python3"
  },
  "language_info": {
   "codemirror_mode": {
    "name": "ipython",
    "version": 3
   },
   "file_extension": ".py",
   "mimetype": "text/x-python",
   "name": "python",
   "nbconvert_exporter": "python",
   "pygments_lexer": "ipython3",
   "version": "3.11.5"
  }
 },
 "nbformat": 4,
 "nbformat_minor": 5
}
